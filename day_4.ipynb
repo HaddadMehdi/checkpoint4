{
 "cells": [
  {
   "cell_type": "code",
   "execution_count": 1,
   "id": "2180872d-0cbc-411a-aa5c-91e02e94d6d1",
   "metadata": {},
   "outputs": [],
   "source": [
    "#****************Question 1\n",
    "def maximum(a,b,c):\n",
    "    result=max(a,b,c)\n",
    "    return(result)"
   ]
  },
  {
   "cell_type": "code",
   "execution_count": 2,
   "id": "19311c56-1043-4080-bf38-cf4015fc8dc1",
   "metadata": {},
   "outputs": [
    {
     "data": {
      "text/plain": [
       "35"
      ]
     },
     "execution_count": 2,
     "metadata": {},
     "output_type": "execute_result"
    }
   ],
   "source": [
    "maximum(20,35,19)"
   ]
  },
  {
   "cell_type": "code",
   "execution_count": 3,
   "id": "09e74bed-8b9a-4938-9c67-4bdfe0eba7ac",
   "metadata": {},
   "outputs": [],
   "source": [
    "#****************Question 2\n",
    "def formule(a,b):\n",
    "    return(a+b,a-b)"
   ]
  },
  {
   "cell_type": "code",
   "execution_count": 4,
   "id": "1be12a37-6075-48f5-9d49-11b0dabc0925",
   "metadata": {},
   "outputs": [
    {
     "data": {
      "text/plain": [
       "(50, 30)"
      ]
     },
     "execution_count": 4,
     "metadata": {},
     "output_type": "execute_result"
    }
   ],
   "source": [
    "formule(40,10)"
   ]
  },
  {
   "cell_type": "code",
   "execution_count": 29,
   "id": "391d13ec-3b6a-4fcd-82f7-0487c795e0d2",
   "metadata": {},
   "outputs": [],
   "source": [
    "#****************Question 3\n",
    "def multiplier(list):\n",
    "    M=1\n",
    "    for i in list:\n",
    "        M*=i\n",
    "    return(M)\n",
    "\n",
    "def addition(list):\n",
    "    A=0\n",
    "    for i in list:\n",
    "        A+=i\n",
    "    return(A)\n",
    "        \n",
    "def Mult_Adit(list):\n",
    "    d=[]\n",
    "    s=[]\n",
    "    for i in list:\n",
    "        if i%2==0:s.append(i)\n",
    "        else:d.append(i)\n",
    "    return(addition(s),multiplier(d))"
   ]
  },
  {
   "cell_type": "code",
   "execution_count": 26,
   "id": "34b485a8-59dc-41f0-a6aa-ef54cbab9f4d",
   "metadata": {},
   "outputs": [
    {
     "data": {
      "text/plain": [
       "(2, 21)"
      ]
     },
     "execution_count": 26,
     "metadata": {},
     "output_type": "execute_result"
    }
   ],
   "source": [
    "A=[2,3,7]\n",
    "Mult_Adit(A)\n"
   ]
  },
  {
   "cell_type": "code",
   "execution_count": 27,
   "id": "95ea80e9-caa5-4ba8-bc5d-348cf9e582f7",
   "metadata": {},
   "outputs": [],
   "source": [
    "#****************Question 4\n",
    "\n",
    "def tri(text):\n",
    "    test = lambda text : text.split('-')[0:len(text)]\n",
    "    text2=sorted(test(text))\n",
    "    text3=''\n",
    "    for i in range(len(text2)-1):\n",
    "        text3+=str(text2[i])+'-'\n",
    "    text3+=text2[-1]    \n",
    "    return(text3)                \n",
    "\n"
   ]
  },
  {
   "cell_type": "code",
   "execution_count": 28,
   "id": "902026bb-73f0-4398-aeb5-ac68908741f3",
   "metadata": {},
   "outputs": [
    {
     "data": {
      "text/plain": [
       "'blanc-gris-jaune-noir-rouge-vert'"
      ]
     },
     "execution_count": 28,
     "metadata": {},
     "output_type": "execute_result"
    }
   ],
   "source": [
    "text='vert-rouge-jaune-noir-blanc-gris'\n",
    "tri(text)"
   ]
  },
  {
   "cell_type": "code",
   "execution_count": 69,
   "id": "9c7d0ad0-88b8-48b0-8f9a-8a9e394c304b",
   "metadata": {},
   "outputs": [],
   "source": [
    "#****************Question 5\n",
    "\n",
    "def calculer(text):\n",
    "    test = lambda text : text.split(',')[0:len(text)]\n",
    "    text2=(test(text))\n",
    "    result=''\n",
    "    for i in range(len(text2)-1):       \n",
    "        import math\n",
    "        result+=str(round(math.sqrt((2*50*int(text2[i]))/30)))+','\n",
    "        \n",
    "    result+=str(round(math.sqrt((2*50*int(text2[-1]))/30)))\n",
    "    return(result)\n",
    "    "
   ]
  },
  {
   "cell_type": "code",
   "execution_count": 74,
   "id": "26b6228a-b992-49e7-bd84-2300caac959e",
   "metadata": {},
   "outputs": [
    {
     "data": {
      "text/plain": [
       "'22,18,24'"
      ]
     },
     "execution_count": 74,
     "metadata": {},
     "output_type": "execute_result"
    }
   ],
   "source": [
    "text='150,100,180'\n",
    "calculer(text)"
   ]
  },
  {
   "cell_type": "code",
   "execution_count": null,
   "id": "a16ba17d-92ec-4118-a549-185b5c6c4d72",
   "metadata": {},
   "outputs": [],
   "source": []
  }
 ],
 "metadata": {
  "kernelspec": {
   "display_name": "Python 3 (ipykernel)",
   "language": "python",
   "name": "python3"
  },
  "language_info": {
   "codemirror_mode": {
    "name": "ipython",
    "version": 3
   },
   "file_extension": ".py",
   "mimetype": "text/x-python",
   "name": "python",
   "nbconvert_exporter": "python",
   "pygments_lexer": "ipython3",
   "version": "3.9.7"
  }
 },
 "nbformat": 4,
 "nbformat_minor": 5
}
